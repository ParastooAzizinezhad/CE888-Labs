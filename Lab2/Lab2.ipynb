{
  "nbformat": 4,
  "nbformat_minor": 0,
  "metadata": {
    "colab": {
      "name": "Lab2.ipynb",
      "provenance": [],
      "authorship_tag": "ABX9TyMjVHLbnjnwuziF4dAJEH1F",
      "include_colab_link": true
    },
    "kernelspec": {
      "name": "python3",
      "display_name": "Python 3"
    }
  },
  "cells": [
    {
      "cell_type": "markdown",
      "metadata": {
        "id": "view-in-github",
        "colab_type": "text"
      },
      "source": [
        "<a href=\"https://colab.research.google.com/github/ParastooAzizinezhad/CE888-Labs/blob/master/Lab2.ipynb\" target=\"_parent\"><img src=\"https://colab.research.google.com/assets/colab-badge.svg\" alt=\"Open In Colab\"/></a>"
      ]
    },
    {
      "cell_type": "markdown",
      "metadata": {
        "id": "pYdD2On9We_g",
        "colab_type": "text"
      },
      "source": [
        "Lab 2: bootstrap"
      ]
    },
    {
      "cell_type": "code",
      "metadata": {
        "id": "7xuE5t_qLkAe",
        "colab_type": "code",
        "colab": {}
      },
      "source": [
        "import matplotlib\n",
        "import pandas as pd\n",
        "import seaborn as sns\n",
        "import numpy as np\n"
      ],
      "execution_count": 0,
      "outputs": []
    },
    {
      "cell_type": "code",
      "metadata": {
        "id": "n5byd5FkWocb",
        "colab_type": "code",
        "colab": {}
      },
      "source": [
        "# Load the data\n",
        "df = pd.read_csv('https://raw.githubusercontent.com/albanda/CE888/master/lab2%20-%20bootstrap/customers.csv')\n",
        "data = df.values.T[1]"
      ],
      "execution_count": 0,
      "outputs": []
    },
    {
      "cell_type": "code",
      "metadata": {
        "id": "fOmnvfTdYYyu",
        "colab_type": "code",
        "colab": {
          "base_uri": "https://localhost:8080/",
          "height": 272
        },
        "outputId": "a42081b7-640b-4179-ca09-5c908dd41da7"
      },
      "source": [
        "df.head"
      ],
      "execution_count": 3,
      "outputs": [
        {
          "output_type": "execute_result",
          "data": {
            "text/plain": [
              "<bound method NDFrame.head of     Day   Millons of pounds in sales\n",
              "0     1                          2.0\n",
              "1     2                          8.0\n",
              "2     3                         20.0\n",
              "3     4                         13.0\n",
              "4     5                          5.0\n",
              "5     6                          9.0\n",
              "6     7                         10.0\n",
              "7     8                          8.0\n",
              "8     9                         22.0\n",
              "9    10                         10.0\n",
              "10   11                          2.0\n",
              "11   12                          4.0\n",
              "12   13                          7.0\n",
              "13   14                          9.0>"
            ]
          },
          "metadata": {
            "tags": []
          },
          "execution_count": 3
        }
      ]
    },
    {
      "cell_type": "code",
      "metadata": {
        "id": "W9VtCgk4Yddz",
        "colab_type": "code",
        "colab": {
          "base_uri": "https://localhost:8080/",
          "height": 34
        },
        "outputId": "8086a387-9293-47cd-b52c-5fdf180a5078"
      },
      "source": [
        "df.size"
      ],
      "execution_count": 6,
      "outputs": [
        {
          "output_type": "execute_result",
          "data": {
            "text/plain": [
              "28"
            ]
          },
          "metadata": {
            "tags": []
          },
          "execution_count": 6
        }
      ]
    },
    {
      "cell_type": "code",
      "metadata": {
        "id": "v9Luc_FwfLwU",
        "colab_type": "code",
        "colab": {}
      },
      "source": [
        ""
      ],
      "execution_count": 0,
      "outputs": []
    },
    {
      "cell_type": "markdown",
      "metadata": {
        "id": "3DipI90_rTca",
        "colab_type": "text"
      },
      "source": [
        "Checking the notes from the lecture, create here your own bootstrap function:\n",
        "1. Create an array of samples of shape (n_iterations, sample_size)\n",
        "2. Calculate and save the mean of the array (this is \"data_mean\" that is returned by the function)\n",
        "3. In each iteration:\n",
        "3.1 Get the data corresponding to that iteration (new_samples[iteration, :])\n",
        "3.2 Calculate the mean of the iteration data and store it\n",
        "(At this point you should have an array of n_iterations values)\n",
        "4. Calculate the lower and upper bounds for a 95% CI (hint: check the percentile function on Numpy)\n",
        "5. Return data_mean, and the lower and upper bounds of your interval"
      ]
    },
    {
      "cell_type": "code",
      "metadata": {
        "id": "bxuwderRWq2v",
        "colab_type": "code",
        "colab": {}
      },
      "source": [
        "def boostrap_mean(sample, sample_size, n_iterations):\n",
        "  new_samples = np.random.choice(sample_size, size=(n_iterations, sample_size), replace =True)\n",
        "  data_mean = np.mean(new_samples)\n",
        "  means = [np.mean(new_samples) for new_samples in new_samples]\n",
        "  means = np.sort(means)\n",
        "  ci = 0.95\n",
        "  lower = np.percentile(means, ((1-ci)/2) *100)\n",
        "  upper = np.percentile(means, (ci+((1-ci)/2)) *100)\n",
        "  return data_mean, lower, upper"
      ],
      "execution_count": 0,
      "outputs": []
    },
    {
      "cell_type": "code",
      "metadata": {
        "id": "lTzbDvPcqYRG",
        "colab_type": "code",
        "colab": {
          "base_uri": "https://localhost:8080/",
          "height": 386
        },
        "outputId": "45d64931-23f7-4cf6-91fa-fbb81657fabf"
      },
      "source": [
        "# Call your bootstrap function and plot the results\n",
        "\n",
        "boots = []\n",
        "for i in range(100, 100000, 1000):\n",
        "    boot = boostrap_mean(data, data.shape[0], i)\n",
        "    boots.append([i, boot[0], \"mean\"])\n",
        "    boots.append([i, boot[1], \"lower\"])\n",
        "    boots.append([i, boot[2], \"upper\"])\n",
        "\n",
        "df_boot = pd.DataFrame(boots, columns=['Boostrap Iterations', 'Mean', \"Value\"])\n",
        "sns_plot = sns.lmplot(df_boot.columns[0], df_boot.columns[1], data=df_boot, fit_reg=False, hue=\"Value\")\n",
        "\n",
        "sns_plot.axes[0, 0].set_ylim(0,)\n",
        "sns_plot.axes[0, 0].set_xlim(0, 100000)\n"
      ],
      "execution_count": 40,
      "outputs": [
        {
          "output_type": "execute_result",
          "data": {
            "text/plain": [
              "(0, 100000)"
            ]
          },
          "metadata": {
            "tags": []
          },
          "execution_count": 40
        },
        {
          "output_type": "display_data",
          "data": {
            "image/png": "[encoded data removed]",
            "text/plain": [
              "<Figure size 425.125x360 with 1 Axes>"
            ]
          },
          "metadata": {
            "tags": []
          }
        }
      ]
    },
    {
      "cell_type": "code",
      "metadata": {
        "id": "eGSFCcRVr1Gy",
        "colab_type": "code",
        "colab": {}
      },
      "source": [
        "\n",
        "#sns_plot.savefig(\"bootstrap_confidence.png\", bbox_inches='tight')\n",
        "\n",
        "#sns_plot.savefig(\"bootstrap_confidence.pdf\", bbox_inches='tight')"
      ],
      "execution_count": 0,
      "outputs": []
    },
    {
      "cell_type": "markdown",
      "metadata": {
        "id": "i94yxSUPwsPN",
        "colab_type": "text"
      },
      "source": [
        "\n",
        "Now, modify the bootstrap function so that you can pass your desired confidence interval as a parameter."
      ]
    },
    {
      "cell_type": "code",
      "metadata": {
        "id": "duk_IUqAwmyW",
        "colab_type": "code",
        "colab": {}
      },
      "source": [
        "def boostrap_mean_ci(sample, sample_size, n_iterations, ci):\n",
        "  new_samples = np.random.choice(sample_size, size=(n_iterations, sample_size), replace =True)\n",
        "  data_mean = np.mean(new_samples)\n",
        "  means = [np.mean(new_samples) for new_samples in new_samples]\n",
        "  means = np.sort(means)\n",
        "  lower = np.percentile(means, ((1-ci)/2) *100)\n",
        "  upper = np.percentile(means, (ci+((1-ci)/2)) *100)\n",
        "  return data_mean, lower, upper"
      ],
      "execution_count": 0,
      "outputs": []
    },
    {
      "cell_type": "code",
      "metadata": {
        "id": "YimR43c_wm72",
        "colab_type": "code",
        "colab": {
          "base_uri": "https://localhost:8080/",
          "height": 369
        },
        "outputId": "1292c6da-9a44-417f-c048-36f395bd2ee6"
      },
      "source": [
        "boots = []\n",
        "for i in range(100, 100000, 1000):\n",
        "    boot = boostrap_mean_ci(data, data.shape[0], i, 0.80)\n",
        "    boots.append([i, boot[0], \"mean\"])\n",
        "    boots.append([i, boot[1], \"lower\"])\n",
        "    boots.append([i, boot[2], \"upper\"])\n",
        "\n",
        "df_boot = pd.DataFrame(boots, columns=['Boostrap Iterations', 'Mean', \"Value\"])\n",
        "sns_plot = sns.lmplot(df_boot.columns[0], df_boot.columns[1], data=df_boot, fit_reg=False, hue=\"Value\")\n",
        "\n",
        "sns_plot.axes[0, 0].set_ylim(0,)\n",
        "sns_plot.axes[0, 0].set_xlim(0, 100000)\n",
        "\n",
        "sns_plot.savefig(\"bootstrap_confidence_80.png\", bbox_inches='tight')\n",
        "sns_plot.savefig(\"bootstrap_confidence_80.pdf\", bbox_inches='tight')"
      ],
      "execution_count": 34,
      "outputs": [
        {
          "output_type": "display_data",
          "data": {
            "image/png": "[encoded data removed]",
            "text/plain": [
              "<Figure size 425.125x360 with 1 Axes>"
            ]
          },
          "metadata": {
            "tags": []
          }
        }
      ]
    },
    {
      "cell_type": "markdown",
      "metadata": {
        "id": "1zeew2ASyEcG",
        "colab_type": "text"
      },
      "source": [
        "\n",
        "# Vehicles dataset\n",
        "Now let's work on a different dataset. Load the vehicles.csv file and check the Moodle page for instructions on how to proceed"
      ]
    },
    {
      "cell_type": "code",
      "metadata": {
        "id": "nfjT3NBmyQHs",
        "colab_type": "code",
        "colab": {}
      },
      "source": [
        "# Load and visualise the vehicles dataset\n",
        "df = pd.read_csv('https://raw.githubusercontent.com/albanda/CE888/master/lab2%20-%20bootstrap/vehicles.csv')\n",
        "\n",
        "\n"
      ],
      "execution_count": 0,
      "outputs": []
    },
    {
      "cell_type": "code",
      "metadata": {
        "id": "1t4RN5OjwnD9",
        "colab_type": "code",
        "colab": {}
      },
      "source": [
        ""
      ],
      "execution_count": 0,
      "outputs": []
    }
  ]
}