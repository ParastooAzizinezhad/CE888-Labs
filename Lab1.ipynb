{
  "nbformat": 4,
  "nbformat_minor": 0,
  "metadata": {
    "colab": {
      "name": "Lab1.ipynb",
      "provenance": []
    },
    "kernelspec": {
      "name": "python3",
      "display_name": "Python 3"
    }
  },
  "cells": [
    {
      "cell_type": "markdown",
      "metadata": {
        "id": "6xk5R28q2ewL",
        "colab_type": "text"
      },
      "source": [
        "The first lab"
      ]
    },
    {
      "cell_type": "code",
      "metadata": {
        "id": "p1OmKJQ23HNF",
        "colab_type": "code",
        "colab": {}
      },
      "source": [
        "import numpy as np"
      ],
      "execution_count": 0,
      "outputs": []
    },
    {
      "cell_type": "code",
      "metadata": {
        "id": "Z-1RGG3izYfa",
        "colab_type": "code",
        "colab": {
          "base_uri": "https://localhost:8080/",
          "height": 85
        },
        "outputId": "9a75ba3a-5e37-4297-d7c7-5d8af576828d"
      },
      "source": [
        "# (4*2) array\n",
        "\n",
        "a = np.array([[ 0, 1], [ 3, 4],[ 5, 6], [ 7, 8]])\n",
        "print(a)"
      ],
      "execution_count": 6,
      "outputs": [
        {
          "output_type": "stream",
          "text": [
            "[[0 1]\n",
            " [3 4]\n",
            " [5 6]\n",
            " [7 8]]\n"
          ],
          "name": "stdout"
        }
      ]
    },
    {
      "cell_type": "code",
      "metadata": {
        "id": "6nyJ7V_T3PRj",
        "colab_type": "code",
        "colab": {
          "base_uri": "https://localhost:8080/",
          "height": 51
        },
        "outputId": "682c954f-ad01-4114-ca71-3c30a938daed"
      },
      "source": [
        "# asserding, deserding \n",
        "\n",
        "b = np.array([ 3, 6, 7, 8, 10, 1, 9, 2, 5, 4])\n",
        "c = np.sort(b)\n",
        "print(c)\n",
        "print(c[:: -1] )\n"
      ],
      "execution_count": 11,
      "outputs": [
        {
          "output_type": "stream",
          "text": [
            "[ 1  2  3  4  5  6  7  8  9 10]\n",
            "[10  9  8  7  6  5  4  3  2  1]\n"
          ],
          "name": "stdout"
        }
      ]
    },
    {
      "cell_type": "code",
      "metadata": {
        "id": "qz5KWVV96_mi",
        "colab_type": "code",
        "colab": {
          "base_uri": "https://localhost:8080/",
          "height": 68
        },
        "outputId": "48d2e6e6-9763-49f7-d3ac-82af174efd49"
      },
      "source": [
        "# the reshape\n",
        "d = np.array([ 1, 2, 3, 4, 5, 6, 7, 8, 9])\n",
        "\n",
        "print(np.reshape(d, (3,-1))) # -1 acts like 2"
      ],
      "execution_count": 15,
      "outputs": [
        {
          "output_type": "stream",
          "text": [
            "[[1 2 3]\n",
            " [4 5 6]\n",
            " [7 8 9]]\n"
          ],
          "name": "stdout"
        }
      ]
    },
    {
      "cell_type": "code",
      "metadata": {
        "id": "21v0Kik67tva",
        "colab_type": "code",
        "colab": {
          "base_uri": "https://localhost:8080/",
          "height": 187
        },
        "outputId": "d567e78b-fb8a-4774-bf69-0265767764e8"
      },
      "source": [
        "v = np.vstack(b)\n",
        "print(v)"
      ],
      "execution_count": 27,
      "outputs": [
        {
          "output_type": "stream",
          "text": [
            "[[ 3]\n",
            " [ 6]\n",
            " [ 7]\n",
            " [ 8]\n",
            " [10]\n",
            " [ 1]\n",
            " [ 9]\n",
            " [ 2]\n",
            " [ 5]\n",
            " [ 4]]\n"
          ],
          "name": "stdout"
        }
      ]
    },
    {
      "cell_type": "code",
      "metadata": {
        "id": "aX7N_4Sd9xqu",
        "colab_type": "code",
        "colab": {
          "base_uri": "https://localhost:8080/",
          "height": 34
        },
        "outputId": "53b34c92-58c2-4112-e1e0-5d2a224af84e"
      },
      "source": [
        "h = np.hstack(v)\n",
        "print(h)"
      ],
      "execution_count": 28,
      "outputs": [
        {
          "output_type": "stream",
          "text": [
            "[ 3  6  7  8 10  1  9  2  5  4]\n"
          ],
          "name": "stdout"
        }
      ]
    },
    {
      "cell_type": "code",
      "metadata": {
        "id": "0iPcF_TX-bEW",
        "colab_type": "code",
        "colab": {
          "base_uri": "https://localhost:8080/",
          "height": 68
        },
        "outputId": "2f987b6c-af3a-46ae-e6b9-e8e32617a727"
      },
      "source": [
        "r1 = np.random.randint(10, size=5)\n",
        "r2 = np.random.randint(10, size=5)\n",
        "print(r1)\n",
        "print(r2)\n",
        "print(np.intersect1d(r1,r2))"
      ],
      "execution_count": 30,
      "outputs": [
        {
          "output_type": "stream",
          "text": [
            "[8 5 1 8 6]\n",
            "[0 4 4 2 3]\n",
            "[]\n"
          ],
          "name": "stdout"
        }
      ]
    },
    {
      "cell_type": "code",
      "metadata": {
        "id": "olwHPMaYAkoI",
        "colab_type": "code",
        "colab": {
          "base_uri": "https://localhost:8080/",
          "height": 221
        },
        "outputId": "0ce56e3e-55f4-4664-ab29-ee3a72c725ad"
      },
      "source": [
        "r3 = np.random.randint(0,10 , size = (5,5))\n",
        "print(r3)\n",
        "s = np.sort(r3, axis=1)\n",
        "print (s)\n",
        "print (s[:, 4]) # max\n",
        "print(s[:, 0])"
      ],
      "execution_count": 37,
      "outputs": [
        {
          "output_type": "stream",
          "text": [
            "[[9 7 4 2 9]\n",
            " [5 5 2 9 4]\n",
            " [5 0 2 2 5]\n",
            " [0 8 4 1 1]\n",
            " [5 1 4 9 9]]\n",
            "[[2 4 7 9 9]\n",
            " [2 4 5 5 9]\n",
            " [0 2 2 5 5]\n",
            " [0 1 1 4 8]\n",
            " [1 4 5 9 9]]\n",
            "[9 9 5 8 9]\n",
            "[2 2 0 0 1]\n"
          ],
          "name": "stdout"
        }
      ]
    },
    {
      "cell_type": "code",
      "metadata": {
        "id": "H9_OxvrCCFxD",
        "colab_type": "code",
        "colab": {
          "base_uri": "https://localhost:8080/",
          "height": 170
        },
        "outputId": "1ce2b62d-6067-40a5-f8d1-da9f4a300cd1"
      },
      "source": [
        "from numpy import mean, absolute\n",
        "\n",
        "r4 = np.random.randint(0, 200 , size = 100)\n",
        "print (r4)\n",
        "\n",
        "print (mean(r4))\n",
        "\n",
        "from astropy.stats import median_absolute_deviation\n",
        "\n",
        "print(median_absolute_deviation(r4))\n",
        "\n",
        "print(np.std(r4))"
      ],
      "execution_count": 42,
      "outputs": [
        {
          "output_type": "stream",
          "text": [
            "[ 91  71  10 185   3  44  91  10  68 199  84 158  77  74  54 118 194 141\n",
            "  60 154  39  49 103 169 155 157 181 136 166  70  23  48 155 146   5  89\n",
            " 190  45  50 109  76  80  93  22  79 168 180 191  73  79 128  25 116 168\n",
            "  19 183  20   7 109  42 176 139 198 154 117  35 129 167  26  28 157 177\n",
            "   4  46 118 186 122  40 113 178 170  32 142 120 117  48 150   2  85  79\n",
            "  39  68  29 136  23  82 136 163 107 115]\n",
            "99.82\n",
            "53.5\n",
            "58.17806803254985\n"
          ],
          "name": "stdout"
        }
      ]
    },
    {
      "cell_type": "code",
      "metadata": {
        "id": "tP_e0ui7FAYh",
        "colab_type": "code",
        "colab": {
          "base_uri": "https://localhost:8080/",
          "height": 187
        },
        "outputId": "e4eb4760-c20f-4f0f-fef3-78a828bf0f72"
      },
      "source": [
        "x = np.random.random((5, 5))\n",
        "print(x)\n",
        "xmax, xmin = x.max(), x.min()\n",
        "x = (x - xmin)/(xmax - xmin)\n",
        "print(x)"
      ],
      "execution_count": 43,
      "outputs": [
        {
          "output_type": "stream",
          "text": [
            "[[0.61022533 0.61832369 0.79340001 0.82351229 0.53319262]\n",
            " [0.78622262 0.47834411 0.99564201 0.95895162 0.69515644]\n",
            " [0.27187614 0.69014988 0.4736721  0.38937925 0.5526775 ]\n",
            " [0.77440839 0.09830173 0.38523592 0.4531823  0.64718186]\n",
            " [0.55827887 0.93130089 0.18924225 0.48413359 0.38655171]]\n",
            "[[0.57048993 0.57951479 0.77462061 0.80817787 0.48464434]\n",
            " [0.76662211 0.42352092 1.         0.95911206 0.66513755]\n",
            " [0.19343209 0.65955821 0.41831441 0.32437808 0.50635838]\n",
            " [0.75345627 0.         0.31976073 0.39548049 0.61167446]\n",
            " [0.51260057 0.92829798 0.10134452 0.42997274 0.32122706]]\n"
          ],
          "name": "stdout"
        }
      ]
    },
    {
      "cell_type": "code",
      "metadata": {
        "id": "6sy7LiVBGAHV",
        "colab_type": "code",
        "colab": {
          "base_uri": "https://localhost:8080/",
          "height": 731
        },
        "outputId": "439b604a-fddc-40ec-e9b7-3b2037d5d54b"
      },
      "source": [
        "mm = np.random.randint(0,10 , size = (4,4,3))\n",
        "nn = np.random.randint(0,10 , size = (4,4))\n",
        "print(mm)\n",
        "print(nn)\n",
        "\n",
        "# print(np.einsum('ijk,ij',mm,nn))\n",
        "mm * nn[:,:,None]"
      ],
      "execution_count": 45,
      "outputs": [
        {
          "output_type": "stream",
          "text": [
            "[[[2 0 0]\n",
            "  [6 3 4]\n",
            "  [7 3 2]\n",
            "  [2 0 0]]\n",
            "\n",
            " [[0 4 0]\n",
            "  [8 4 7]\n",
            "  [1 9 4]\n",
            "  [7 1 0]]\n",
            "\n",
            " [[9 7 2]\n",
            "  [9 8 4]\n",
            "  [1 0 3]\n",
            "  [0 0 7]]\n",
            "\n",
            " [[5 5 9]\n",
            "  [1 1 1]\n",
            "  [2 7 6]\n",
            "  [7 1 5]]]\n",
            "[[6 1 6 3]\n",
            " [9 3 7 6]\n",
            " [4 9 9 0]\n",
            " [8 7 3 9]]\n"
          ],
          "name": "stdout"
        },
        {
          "output_type": "execute_result",
          "data": {
            "text/plain": [
              "array([[[12,  0,  0],\n",
              "        [ 6,  3,  4],\n",
              "        [42, 18, 12],\n",
              "        [ 6,  0,  0]],\n",
              "\n",
              "       [[ 0, 36,  0],\n",
              "        [24, 12, 21],\n",
              "        [ 7, 63, 28],\n",
              "        [42,  6,  0]],\n",
              "\n",
              "       [[36, 28,  8],\n",
              "        [81, 72, 36],\n",
              "        [ 9,  0, 27],\n",
              "        [ 0,  0,  0]],\n",
              "\n",
              "       [[40, 40, 72],\n",
              "        [ 7,  7,  7],\n",
              "        [ 6, 21, 18],\n",
              "        [63,  9, 45]]])"
            ]
          },
          "metadata": {
            "tags": []
          },
          "execution_count": 45
        }
      ]
    }
  ]
}