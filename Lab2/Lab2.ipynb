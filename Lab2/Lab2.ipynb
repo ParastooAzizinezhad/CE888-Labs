{
  "nbformat": 4,
  "nbformat_minor": 0,
  "metadata": {
    "colab": {
      "name": "Lab2.ipynb",
      "provenance": [],
      "collapsed_sections": [],
      "authorship_tag": "ABX9TyO2ACNivTh3K3eZWykRTHjO",
      "include_colab_link": true
    },
    "kernelspec": {
      "name": "python3",
      "display_name": "Python 3"
    }
  },
  "cells": [
    {
      "cell_type": "markdown",
      "metadata": {
        "id": "view-in-github",
        "colab_type": "text"
      },
      "source": [
        "<a href=\"https://colab.research.google.com/github/ParastooAzizinezhad/CE888-Labs/blob/master/Lab2/Lab2.ipynb\" target=\"_parent\"><img src=\"https://colab.research.google.com/assets/colab-badge.svg\" alt=\"Open In Colab\"/></a>"
      ]
    },
    {
      "cell_type": "markdown",
      "metadata": {
        "id": "pYdD2On9We_g",
        "colab_type": "text"
      },
      "source": [
        "# **Lab 2: bootstrap**"
      ]
    },
    {
      "cell_type": "markdown",
      "metadata": {
        "id": "sDMm0IFuSv9Q",
        "colab_type": "text"
      },
      "source": [
        "(1) The bootstrap:\n",
        "Open the notebook for the bootstrap here: https://github.com/albanda/CE888/blob/master/lab2%20-%20bootstrap/bootstrap.ipynb\n",
        "Open it in Colab, create the bootstrap function and save it to your repository.\n",
        "\n",
        "(2) Data visualisation: a business is looking at changing their current vehicle fleet and replacing their vehicles with ones used by their competitors. They have captured the MPG of some of the cars in both fleets.\n",
        "In the same jupyter nootebook:\n",
        "Read the data for the vehicles from vehicles.csv\n",
        "Create histograms and scatterplots for the current fleet and the proposed fleet\n",
        "\n",
        "(3) Bootstrap on the vehicles dataset\n",
        "The business analysts come up a comparison algorithm that requires the upper and lower bounds for the mean in order to say which fleet is better.\n",
        "In the bootstrap notebook:\n",
        "1. Calculate the mean of both samples.\n",
        "2. Using the bootstrap function that you created:\n",
        "- Find the upper and lower bound of the mean of the current fleet.\n",
        "- Do the same with the new fleet.\n",
        "- Are they comparable? (i.e., is one better than the other?) -- you can do this with a permutation test (check the lecture notes!)\n"
      ]
    },
    {
      "cell_type": "code",
      "metadata": {
        "id": "7xuE5t_qLkAe",
        "colab_type": "code",
        "colab": {}
      },
      "source": [
        "import matplotlib\n",
        "import pandas as pd\n",
        "import seaborn as sns\n",
        "import numpy as np\n"
      ],
      "execution_count": 0,
      "outputs": []
    },
    {
      "cell_type": "code",
      "metadata": {
        "id": "n5byd5FkWocb",
        "colab_type": "code",
        "colab": {}
      },
      "source": [
        "# Load the data\n",
        "df = pd.read_csv('https://raw.githubusercontent.com/albanda/CE888/master/lab2%20-%20bootstrap/customers.csv')\n",
        "data = df.values.T[1]"
      ],
      "execution_count": 0,
      "outputs": []
    },
    {
      "cell_type": "code",
      "metadata": {
        "id": "fOmnvfTdYYyu",
        "colab_type": "code",
        "outputId": "5b74e5d4-a6b0-46de-f80d-7fb93c816929",
        "colab": {
          "base_uri": "https://localhost:8080/",
          "height": 269
        }
      },
      "source": [
        "df.head"
      ],
      "execution_count": 8,
      "outputs": [
        {
          "output_type": "execute_result",
          "data": {
            "text/plain": [
              "<bound method NDFrame.head of     Day   Millons of pounds in sales\n",
              "0     1                          2.0\n",
              "1     2                          8.0\n",
              "2     3                         20.0\n",
              "3     4                         13.0\n",
              "4     5                          5.0\n",
              "5     6                          9.0\n",
              "6     7                         10.0\n",
              "7     8                          8.0\n",
              "8     9                         22.0\n",
              "9    10                         10.0\n",
              "10   11                          2.0\n",
              "11   12                          4.0\n",
              "12   13                          7.0\n",
              "13   14                          9.0>"
            ]
          },
          "metadata": {
            "tags": []
          },
          "execution_count": 8
        }
      ]
    },
    {
      "cell_type": "code",
      "metadata": {
        "id": "W9VtCgk4Yddz",
        "colab_type": "code",
        "outputId": "db8a34dc-92ba-4644-b37e-8be7071967d1",
        "colab": {
          "base_uri": "https://localhost:8080/",
          "height": 34
        }
      },
      "source": [
        "df.size"
      ],
      "execution_count": 9,
      "outputs": [
        {
          "output_type": "execute_result",
          "data": {
            "text/plain": [
              "28"
            ]
          },
          "metadata": {
            "tags": []
          },
          "execution_count": 9
        }
      ]
    },
    {
      "cell_type": "code",
      "metadata": {
        "id": "v9Luc_FwfLwU",
        "colab_type": "code",
        "colab": {}
      },
      "source": [
        ""
      ],
      "execution_count": 0,
      "outputs": []
    },
    {
      "cell_type": "markdown",
      "metadata": {
        "id": "3DipI90_rTca",
        "colab_type": "text"
      },
      "source": [
        "Checking the notes from the lecture, create here your own bootstrap function:\n",
        "1. Create an array of samples of shape (n_iterations, sample_size)\n",
        "2. Calculate and save the mean of the array (this is \"data_mean\" that is returned by the function)\n",
        "3. In each iteration:\n",
        "3.1 Get the data corresponding to that iteration (new_samples[iteration, :])\n",
        "3.2 Calculate the mean of the iteration data and store it\n",
        "(At this point you should have an array of n_iterations values)\n",
        "4. Calculate the lower and upper bounds for a 95% CI (hint: check the percentile function on Numpy)\n",
        "5. Return data_mean, and the lower and upper bounds of your interval"
      ]
    },
    {
      "cell_type": "code",
      "metadata": {
        "id": "bxuwderRWq2v",
        "colab_type": "code",
        "colab": {}
      },
      "source": [
        "def boostrap_mean(sample, sample_size, n_iterations):\n",
        "  new_samples = np.random.choice(sample_size, size=(n_iterations, sample_size), replace =True)\n",
        "  data_mean = np.mean(new_samples)\n",
        "  means = [np.mean(new_samples) for new_samples in new_samples]\n",
        "  means = np.sort(means)\n",
        "  ci = 0.95\n",
        "  lower = np.percentile(means, ((1-ci)/2) *100)\n",
        "  upper = np.percentile(means, (ci+((1-ci)/2)) *100)\n",
        "  return data_mean, lower, upper"
      ],
      "execution_count": 0,
      "outputs": []
    },
    {
      "cell_type": "code",
      "metadata": {
        "id": "lTzbDvPcqYRG",
        "colab_type": "code",
        "outputId": "12975053-248b-4f66-a8a2-de2a75cdc64d",
        "colab": {
          "base_uri": "https://localhost:8080/",
          "height": 386
        }
      },
      "source": [
        "# Call your bootstrap function and plot the results\n",
        "\n",
        "boots = []\n",
        "for i in range(100, 100000, 1000):\n",
        "    boot = boostrap_mean(data, data.shape[0], i)\n",
        "    boots.append([i, boot[0], \"mean\"])\n",
        "    boots.append([i, boot[1], \"lower\"])\n",
        "    boots.append([i, boot[2], \"upper\"])\n",
        "\n",
        "df_boot = pd.DataFrame(boots, columns=['Boostrap Iterations', 'Mean', \"Value\"])\n",
        "sns_plot = sns.lmplot(df_boot.columns[0], df_boot.columns[1], data=df_boot, fit_reg=False, hue=\"Value\")\n",
        "\n",
        "sns_plot.axes[0, 0].set_ylim(0,)\n",
        "sns_plot.axes[0, 0].set_xlim(0, 100000)\n"
      ],
      "execution_count": 11,
      "outputs": [
        {
          "output_type": "execute_result",
          "data": {
            "text/plain": [
              "(0.0, 100000.0)"
            ]
          },
          "metadata": {
            "tags": []
          },
          "execution_count": 11
        },
        {
          "output_type": "display_data",
          "data": {
            "image/png": "[encoded data removed]",
            "text/plain": [
              "<Figure size 425.125x360 with 1 Axes>"
            ]
          },
          "metadata": {
            "tags": []
          }
        }
      ]
    },
    {
      "cell_type": "code",
      "metadata": {
        "id": "eGSFCcRVr1Gy",
        "colab_type": "code",
        "colab": {}
      },
      "source": [
        "\n",
        "#sns_plot.savefig(\"bootstrap_confidence.png\", bbox_inches='tight')\n",
        "\n",
        "#sns_plot.savefig(\"bootstrap_confidence.pdf\", bbox_inches='tight')"
      ],
      "execution_count": 0,
      "outputs": []
    },
    {
      "cell_type": "markdown",
      "metadata": {
        "id": "i94yxSUPwsPN",
        "colab_type": "text"
      },
      "source": [
        "\n",
        "Now, modify the bootstrap function so that you can pass your desired confidence interval as a parameter."
      ]
    },
    {
      "cell_type": "code",
      "metadata": {
        "id": "duk_IUqAwmyW",
        "colab_type": "code",
        "colab": {}
      },
      "source": [
        "def boostrap_mean_ci(sample, sample_size, n_iterations, ci):\n",
        "  new_samples = np.random.choice(sample_size, size=(n_iterations, sample_size), replace =True)\n",
        "  data_mean = np.mean(new_samples)\n",
        "  means = [np.mean(new_samples) for new_samples in new_samples]\n",
        "  means = np.sort(means)\n",
        "  lower = np.percentile(means, ((1-ci)/2) *100)\n",
        "  upper = np.percentile(means, (ci+((1-ci)/2)) *100)\n",
        "  return data_mean, lower, upper"
      ],
      "execution_count": 0,
      "outputs": []
    },
    {
      "cell_type": "code",
      "metadata": {
        "id": "YimR43c_wm72",
        "colab_type": "code",
        "outputId": "c7d0cd43-83d5-4c73-aed5-f850b0b02217",
        "colab": {
          "base_uri": "https://localhost:8080/",
          "height": 369
        }
      },
      "source": [
        "boots = []\n",
        "for i in range(100, 100000, 1000):\n",
        "    boot = boostrap_mean_ci(data, data.shape[0], i, 0.80)\n",
        "    boots.append([i, boot[0], \"mean\"])\n",
        "    boots.append([i, boot[1], \"lower\"])\n",
        "    boots.append([i, boot[2], \"upper\"])\n",
        "\n",
        "df_boot = pd.DataFrame(boots, columns=['Boostrap Iterations', 'Mean', \"Value\"])\n",
        "sns_plot = sns.lmplot(df_boot.columns[0], df_boot.columns[1], data=df_boot, fit_reg=False, hue=\"Value\")\n",
        "\n",
        "sns_plot.axes[0, 0].set_ylim(0,)\n",
        "sns_plot.axes[0, 0].set_xlim(0, 100000)\n",
        "\n",
        "sns_plot.savefig(\"bootstrap_confidence_80.png\", bbox_inches='tight')\n",
        "sns_plot.savefig(\"bootstrap_confidence_80.pdf\", bbox_inches='tight')"
      ],
      "execution_count": 14,
      "outputs": [
        {
          "output_type": "display_data",
          "data": {
            "image/png": "[encoded data removed]",
            "text/plain": [
              "<Figure size 425.125x360 with 1 Axes>"
            ]
          },
          "metadata": {
            "tags": []
          }
        }
      ]
    },
    {
      "cell_type": "markdown",
      "metadata": {
        "id": "1zeew2ASyEcG",
        "colab_type": "text"
      },
      "source": [
        "\n",
        "# Vehicles dataset\n",
        "Now let's work on a different dataset. Load the vehicles.csv file and check the Moodle page for instructions on how to proceed"
      ]
    },
    {
      "cell_type": "code",
      "metadata": {
        "id": "nfjT3NBmyQHs",
        "colab_type": "code",
        "outputId": "4d5787bb-9339-4e0d-b2c8-4986edfedc2a",
        "colab": {
          "base_uri": "https://localhost:8080/",
          "height": 402
        }
      },
      "source": [
        "# Load and visualise the vehicles dataset\n",
        "import pandas as pd\n",
        "import seaborn as sns\n",
        "from matplotlib import pyplot as plt\n",
        "\n",
        "\n",
        "df = pd.read_csv('https://raw.githubusercontent.com/albanda/CE888/master/lab2%20-%20bootstrap/vehicles.csv')\n",
        "\n",
        "df\n",
        "\n"
      ],
      "execution_count": 24,
      "outputs": [
        {
          "output_type": "execute_result",
          "data": {
            "text/html": [
              "<div>\n",
              "<style scoped>\n",
              "    .dataframe tbody tr th:only-of-type {\n",
              "        vertical-align: middle;\n",
              "    }\n",
              "\n",
              "    .dataframe tbody tr th {\n",
              "        vertical-align: top;\n",
              "    }\n",
              "\n",
              "    .dataframe thead th {\n",
              "        text-align: right;\n",
              "    }\n",
              "</style>\n",
              "<table border=\"1\" class=\"dataframe\">\n",
              "  <thead>\n",
              "    <tr style=\"text-align: right;\">\n",
              "      <th></th>\n",
              "      <th>Current fleet</th>\n",
              "      <th>New Fleet</th>\n",
              "    </tr>\n",
              "  </thead>\n",
              "  <tbody>\n",
              "    <tr>\n",
              "      <th>0</th>\n",
              "      <td>18</td>\n",
              "      <td>24.0</td>\n",
              "    </tr>\n",
              "    <tr>\n",
              "      <th>1</th>\n",
              "      <td>15</td>\n",
              "      <td>27.0</td>\n",
              "    </tr>\n",
              "    <tr>\n",
              "      <th>2</th>\n",
              "      <td>18</td>\n",
              "      <td>27.0</td>\n",
              "    </tr>\n",
              "    <tr>\n",
              "      <th>3</th>\n",
              "      <td>16</td>\n",
              "      <td>25.0</td>\n",
              "    </tr>\n",
              "    <tr>\n",
              "      <th>4</th>\n",
              "      <td>17</td>\n",
              "      <td>31.0</td>\n",
              "    </tr>\n",
              "    <tr>\n",
              "      <th>...</th>\n",
              "      <td>...</td>\n",
              "      <td>...</td>\n",
              "    </tr>\n",
              "    <tr>\n",
              "      <th>244</th>\n",
              "      <td>27</td>\n",
              "      <td>NaN</td>\n",
              "    </tr>\n",
              "    <tr>\n",
              "      <th>245</th>\n",
              "      <td>27</td>\n",
              "      <td>NaN</td>\n",
              "    </tr>\n",
              "    <tr>\n",
              "      <th>246</th>\n",
              "      <td>32</td>\n",
              "      <td>NaN</td>\n",
              "    </tr>\n",
              "    <tr>\n",
              "      <th>247</th>\n",
              "      <td>28</td>\n",
              "      <td>NaN</td>\n",
              "    </tr>\n",
              "    <tr>\n",
              "      <th>248</th>\n",
              "      <td>31</td>\n",
              "      <td>NaN</td>\n",
              "    </tr>\n",
              "  </tbody>\n",
              "</table>\n",
              "<p>249 rows × 2 columns</p>\n",
              "</div>"
            ],
            "text/plain": [
              "     Current fleet  New Fleet\n",
              "0               18       24.0\n",
              "1               15       27.0\n",
              "2               18       27.0\n",
              "3               16       25.0\n",
              "4               17       31.0\n",
              "..             ...        ...\n",
              "244             27        NaN\n",
              "245             27        NaN\n",
              "246             32        NaN\n",
              "247             28        NaN\n",
              "248             31        NaN\n",
              "\n",
              "[249 rows x 2 columns]"
            ]
          },
          "metadata": {
            "tags": []
          },
          "execution_count": 24
        }
      ]
    },
    {
      "cell_type": "code",
      "metadata": {
        "id": "1t4RN5OjwnD9",
        "colab_type": "code",
        "outputId": "69780c9e-48f4-4846-a844-a03b55c05d1d",
        "colab": {
          "base_uri": "https://localhost:8080/",
          "height": 386
        }
      },
      "source": [
        "data = df[df.columns[1]].values\n",
        "#print(type(data), data)\n",
        "## An alternative way\n",
        "data = df.iloc[:, 1].values\n",
        "#print(type(data), data) # NumPy array\n",
        "sns.lmplot(df.columns[0], df.columns[1],data=df, fit_reg=False)\n"
      ],
      "execution_count": 16,
      "outputs": [
        {
          "output_type": "execute_result",
          "data": {
            "text/plain": [
              "<seaborn.axisgrid.FacetGrid at 0x7f1103da9780>"
            ]
          },
          "metadata": {
            "tags": []
          },
          "execution_count": 16
        },
        {
          "output_type": "display_data",
          "data": {
            "image/png": "[encoded data removed]",
            "text/plain": [
              "<Figure size 360x360 with 1 Axes>"
            ]
          },
          "metadata": {
            "tags": []
          }
        }
      ]
    },
    {
      "cell_type": "code",
      "metadata": {
        "id": "_-0t3NCtW5YE",
        "colab_type": "code",
        "outputId": "b44441fc-2aa0-4708-ae9b-31ebf497d86d",
        "colab": {
          "base_uri": "https://localhost:8080/",
          "height": 282
        }
      },
      "source": [
        "sns.distplot(data, bins=20,kde=False, rug=True)"
      ],
      "execution_count": 17,
      "outputs": [
        {
          "output_type": "execute_result",
          "data": {
            "text/plain": [
              "<matplotlib.axes._subplots.AxesSubplot at 0x7f1103db9898>"
            ]
          },
          "metadata": {
            "tags": []
          },
          "execution_count": 17
        },
        {
          "output_type": "display_data",
          "data": {
            "image/png": "[encoded data removed]",
            "text/plain": [
              "<Figure size 432x288 with 1 Axes>"
            ]
          },
          "metadata": {
            "tags": []
          }
        }
      ]
    },
    {
      "cell_type": "code",
      "metadata": {
        "id": "Jw7wgvM-o0Av",
        "colab_type": "code",
        "colab": {
          "base_uri": "https://localhost:8080/",
          "height": 282
        },
        "outputId": "6a9f79cb-652c-4d29-e479-a2b906a2cbca"
      },
      "source": [
        "d_current = df.values[:,0]\n",
        "d_new = df.values[:,1]\n",
        "d_new = d_new[np.logical_not(np.isnan(d_new))]\n",
        "sns.scatterplot(data=df)\n"
      ],
      "execution_count": 22,
      "outputs": [
        {
          "output_type": "execute_result",
          "data": {
            "text/plain": [
              "<matplotlib.axes._subplots.AxesSubplot at 0x7f11039e81d0>"
            ]
          },
          "metadata": {
            "tags": []
          },
          "execution_count": 22
        },
        {
          "output_type": "display_data",
          "data": {
            "image/png": "[encoded data removed]",
            "text/plain": [
              "<Figure size 432x288 with 1 Axes>"
            ]
          },
          "metadata": {
            "tags": []
          }
        }
      ]
    },
    {
      "cell_type": "code",
      "metadata": {
        "id": "HP5b65IIXfSK",
        "colab_type": "code",
        "colab": {
          "base_uri": "https://localhost:8080/",
          "height": 315
        },
        "outputId": "d7218e6c-669e-49a9-90c0-ee8d0e1a11af"
      },
      "source": [
        "# single figures\n",
        "plt.subplot(2,1,1)\n",
        "plt.hist(d_new, color='r') \n",
        "plt.subplot(2,1,2)\n",
        "plt.hist(d_current, color='b')"
      ],
      "execution_count": 25,
      "outputs": [
        {
          "output_type": "execute_result",
          "data": {
            "text/plain": [
              "(array([ 7., 45., 44., 55., 30., 23., 21., 10.,  7.,  7.]),\n",
              " array([ 9., 12., 15., 18., 21., 24., 27., 30., 33., 36., 39.]),\n",
              " <a list of 10 Patch objects>)"
            ]
          },
          "metadata": {
            "tags": []
          },
          "execution_count": 25
        },
        {
          "output_type": "display_data",
          "data": {
            "image/png": "[encoded data removed]",
            "text/plain": [
              "<Figure size 432x288 with 2 Axes>"
            ]
          },
          "metadata": {
            "tags": []
          }
        }
      ]
    },
    {
      "cell_type": "code",
      "metadata": {
        "id": "ZkpTlcJYoXvY",
        "colab_type": "code",
        "colab": {
          "base_uri": "https://localhost:8080/",
          "height": 282
        },
        "outputId": "dfeaa22c-84c2-436d-b9a1-503f023d135c"
      },
      "source": [
        "#plt.figure()\n",
        "#fig, ax = plt.subplots()\n",
        "bins = np.linspace(np.nanmin(df.values),np.nanmax(df.values),20)\n",
        "sns.distplot(d_current, bins=bins, kde=False, norm_hist=False, label=\"Current Fleet\")\n",
        "sns.distplot(d_new, bins=bins, kde=False, norm_hist=False, label=\"New Fleet\")\n",
        "plt.legend()"
      ],
      "execution_count": 26,
      "outputs": [
        {
          "output_type": "execute_result",
          "data": {
            "text/plain": [
              "<matplotlib.legend.Legend at 0x7f1103793ac8>"
            ]
          },
          "metadata": {
            "tags": []
          },
          "execution_count": 26
        },
        {
          "output_type": "display_data",
          "data": {
            "image/png": "[encoded data removed]",
            "text/plain": [
              "<Figure size 432x288 with 1 Axes>"
            ]
          },
          "metadata": {
            "tags": []
          }
        }
      ]
    },
    {
      "cell_type": "code",
      "metadata": {
        "id": "_aYrpKdIrbfO",
        "colab_type": "code",
        "colab": {}
      },
      "source": [
        "def boostrap_mean_ci(sample, sample_size, n_iterations, ci):\n",
        "  new_samples = np.random.choice(sample_size, size=(n_iterations, sample_size), replace =True)\n",
        "  data_mean = np.mean(new_samples)\n",
        "  means = [np.mean(new_samples) for new_samples in new_samples]\n",
        "  means = np.sort(means)\n",
        "  lower = np.percentile(means, ((1-ci)/2) *100)\n",
        "  upper = np.percentile(means, (ci+((1-ci)/2)) *100)\n",
        "  return data_mean, lower, upper"
      ],
      "execution_count": 0,
      "outputs": []
    },
    {
      "cell_type": "code",
      "metadata": {
        "id": "Gh8qsBPpn0BC",
        "colab_type": "code",
        "colab": {
          "base_uri": "https://localhost:8080/",
          "height": 168
        },
        "outputId": "84304661-bdc3-413f-e9fc-1085dc5d045b"
      },
      "source": [
        "d_new = d_new[~np.isnan(d_new)]\n",
        "d_current = d_current[~np.isnan(d_current)]\n",
        "\n",
        "current_m, current_lower, current_upper = boostrap_mean_ci(d_current, d_current.shape[0], 3000, 0.95)\n",
        "new_m, new_lower, new_upper = boostrap_mean_ci(d_new, d_new.shape[0], 3000, 0.95)\n",
        "print(\"Current Fleet Bootstrap\\nMean: %f\\nLower: %f\\nUpper: %f\\n\"%(current_m, current_lower, current_upper))\n",
        "print(\"New Fleet Bootstrap\\nMean: %f\\nLower: %f\\nUpper: %f\"%(new_m, new_lower, new_upper))"
      ],
      "execution_count": 44,
      "outputs": [
        {
          "output_type": "stream",
          "text": [
            "Current Fleet Bootstrap\n",
            "Mean: 123.847383\n",
            "Lower: 114.453815\n",
            "Upper: 132.855823\n",
            "\n",
            "New Fleet Bootstrap\n",
            "Mean: 38.996975\n",
            "Lower: 33.784810\n",
            "Upper: 44.050633\n"
          ],
          "name": "stdout"
        }
      ]
    },
    {
      "cell_type": "code",
      "metadata": {
        "id": "5AVDwxP1oAd_",
        "colab_type": "code",
        "colab": {}
      },
      "source": [
        ""
      ],
      "execution_count": 0,
      "outputs": []
    }
  ]
}